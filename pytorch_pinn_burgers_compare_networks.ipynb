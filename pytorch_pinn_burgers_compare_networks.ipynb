{
  "cells": [
    {
      "cell_type": "code",
      "execution_count": null,
      "metadata": {
        "colab": {
          "base_uri": "https://localhost:8080/"
        },
        "id": "WG0H11FyOmVz",
        "outputId": "92b169b0-8989-4a2b-d020-bac6510b0a9b"
      },
      "outputs": [
        {
          "name": "stdout",
          "output_type": "stream",
          "text": [
            "Mounted at /content/gdrive\n"
          ]
        }
      ],
      "source": [
        "from google.colab import drive\n",
        "drive.mount('/content/gdrive')"
      ]
    },
    {
      "cell_type": "code",
      "execution_count": null,
      "metadata": {
        "id": "ESwyX5CakzjS"
      },
      "outputs": [],
      "source": [
        "# Burgers equation.\n",
        "# 09 / 14 / 2021\n",
        "# Edgar A. M. O.\n",
        "\n",
        "# Resnet and Foruier Transform\n",
        "# Atharva Hans and Illias Bilionis\n",
        "\n",
        "import torch\n",
        "import torch.nn as nn\n",
        "import numpy as np\n",
        "from random import uniform\n",
        "from time import perf_counter\n"
      ]
    },
    {
      "cell_type": "code",
      "execution_count": null,
      "metadata": {
        "id": "YD_nUcjfvRlx"
      },
      "outputs": [],
      "source": [
        "from matplotlib import pyplot as plt"
      ]
    },
    {
      "cell_type": "code",
      "execution_count": null,
      "metadata": {
        "id": "8DGlaRjqlDZr"
      },
      "outputs": [],
      "source": [
        "class PhysicsInformedNN():\n",
        "    def __init__(self, X_u, u, X_f, net = None):\n",
        "        # x & t from boundary conditions:\n",
        "        self.x_u = torch.tensor(X_u[:, 0].reshape(-1, 1),\n",
        "                                dtype=torch.float32,\n",
        "                                requires_grad=True)\n",
        "        self.t_u = torch.tensor(X_u[:, 1].reshape(-1, 1),\n",
        "                                dtype=torch.float32,\n",
        "                                requires_grad=True)\n",
        "\n",
        "        # x & t from collocation points:\n",
        "        self.x_f = torch.tensor(X_f[:, 0].reshape(-1, 1),\n",
        "                                dtype=torch.float32,\n",
        "                                requires_grad=True)\n",
        "        self.t_f = torch.tensor(X_f[:, 1].reshape(-1, 1),\n",
        "                                dtype=torch.float32,\n",
        "                                requires_grad=True)\n",
        "\n",
        "        # boundary solution:\n",
        "        self.u = torch.tensor(u, dtype=torch.float32)\n",
        "\n",
        "        # null vector to test against f:\n",
        "        self.null =  torch.zeros((self.x_f.shape[0], 1))\n",
        "\n",
        "        self.input_net = net\n",
        "\n",
        "        # initialize net:\n",
        "        self.create_net()\n",
        "        #self.net.apply(self.init_weights)\n",
        "\n",
        "        # this optimizer updates the weights and biases of the net:\n",
        "        self.optimizer = torch.optim.LBFGS(self.net.parameters(),\n",
        "                                    lr=1.5,\n",
        "                                    max_iter=10000,\n",
        "                                    max_eval=10000,\n",
        "                                    history_size=50,\n",
        "                                    tolerance_grad=1e-09,\n",
        "                                    tolerance_change=0.01 * np.finfo(float).eps,\n",
        "                                    line_search_fn=\"strong_wolfe\")\n",
        "        \n",
        "\n",
        "        # typical MSE loss (this is a function):\n",
        "        self.loss = nn.MSELoss()\n",
        "\n",
        "        # loss :\n",
        "        self.ls = 0\n",
        "\n",
        "        # loss list :\n",
        "        self.loss_list = []\n",
        "\n",
        "        # iteration number:\n",
        "        self.iter = 0\n",
        "\n",
        "    def create_net(self):\n",
        "        \"\"\" net takes a batch of two inputs: (n, 2) --> (n, 1) \"\"\"\n",
        "        if self.input_net == None:\n",
        "            self.net = nn.Sequential(\n",
        "                nn.Linear(2, 20), nn.Tanh(),\n",
        "                nn.Linear(20, 20), nn.Tanh(),\n",
        "                nn.Linear(20, 20), nn.Tanh(),\n",
        "                nn.Linear(20, 20), nn.Tanh(),\n",
        "                nn.Linear(20, 20), nn.Tanh(),\n",
        "                nn.Linear(20, 20), nn.Tanh(),\n",
        "                nn.Linear(20, 20), nn.Tanh(),\n",
        "                nn.Linear(20, 20), nn.Tanh(),\n",
        "                nn.Linear(20, 20), nn.Tanh(),\n",
        "                nn.Linear(20, 1))\n",
        "        else:\n",
        "            self.net = self.input_net\n",
        "\n",
        "        print(self.net)\n",
        "\n",
        "\n",
        "    def init_weights(self, m):\n",
        "        if type(m) == nn.Linear:\n",
        "            torch.nn.init.xavier_normal_(m.weight, 0.1)\n",
        "            m.bias.data.fill_(0.001)\n",
        "        \n",
        "    def net_u(self, x, t):\n",
        "        u = self.net( torch.hstack((x, t)) )\n",
        "        return u\n",
        "\n",
        "    def net_f(self, x, t):\n",
        "        u = self.net_u(x, t)\n",
        "        \n",
        "        u_t = torch.autograd.grad(\n",
        "            u, t, \n",
        "            grad_outputs=torch.ones_like(u),\n",
        "            retain_graph=True,\n",
        "            create_graph=True)[0]\n",
        "        \n",
        "        u_x = torch.autograd.grad(\n",
        "            u, x, \n",
        "            grad_outputs=torch.ones_like(u),\n",
        "            retain_graph=True,\n",
        "            create_graph=True)[0]\n",
        "        \n",
        "        u_xx = torch.autograd.grad(\n",
        "            u_x, x,\n",
        "            grad_outputs=torch.ones_like(u_x),\n",
        "            retain_graph=True,\n",
        "            create_graph=True)[0]\n",
        "\n",
        "        f = u_t + (u * u_x)- (nu * u_xx)\n",
        "\n",
        "        return f\n",
        "\n",
        "    def plot(self, figname = 'pinn_burger_plot'):\n",
        "        \"\"\" plot the solution on new data \"\"\"\n",
        "        \n",
        "        import matplotlib.pyplot as plt\n",
        "        from mpl_toolkits.axes_grid1 import make_axes_locatable\n",
        "        \n",
        "        x = torch.linspace(-1, 1, 200)\n",
        "        t = torch.linspace( 0, 1, 100)\n",
        "\n",
        "        # x & t grids:\n",
        "        X, T = torch.meshgrid(x, t)\n",
        "\n",
        "        # x & t columns:\n",
        "        xcol = X.reshape(-1, 1)\n",
        "        tcol = T.reshape(-1, 1)\n",
        "\n",
        "        # one large column:\n",
        "        usol = self.net_u(xcol, tcol)\n",
        "\n",
        "        # reshape solution:\n",
        "        U = usol.reshape(x.numel(), t.numel())\n",
        "\n",
        "        # transform to numpy:\n",
        "        xnp = x.numpy()\n",
        "        tnp = t.numpy()\n",
        "        Unp = U.detach().numpy()\n",
        "\n",
        "        # plot:\n",
        "        fig = plt.figure(figsize=(9, 4.5))\n",
        "        ax = fig.add_subplot(111)\n",
        "\n",
        "        h = ax.imshow(Unp,\n",
        "                      interpolation='nearest',\n",
        "                      cmap='rainbow', \n",
        "                      extent=[tnp.min(), tnp.max(), xnp.min(), xnp.max()], \n",
        "                      origin='lower', aspect='auto')\n",
        "        divider = make_axes_locatable(ax)\n",
        "        cax = divider.append_axes(\"right\", size=\"5%\", pad=0.10)\n",
        "        cbar = fig.colorbar(h, cax=cax)\n",
        "        cbar.ax.tick_params(labelsize=10)\n",
        "        plt.show()\n",
        "        plt.savefig(figname)\n",
        "\n",
        "    def plot_loss(self):\n",
        "        import matplotlib.pyplot as plt\n",
        "        fig = plt.figure(figsize = (8,6))\n",
        "        plt.plot(self.loss_list)\n",
        "        plt.xlabel('iterations')\n",
        "        plt.ylabel('loss')\n",
        "\n",
        "    def predict(self, x, t):\n",
        "        x = torch.from_numpy(x)\n",
        "        t = torch.from_numpy(t)\n",
        "        # x & t grids:\n",
        "        X, T = torch.meshgrid(x, t)\n",
        "        # x & t columns:\n",
        "        xcol = x.reshape(-1, 1)\n",
        "        tcol = t.reshape(-1, 1)\n",
        "        # U output from net\n",
        "        u = self.net_u(xcol, tcol)\n",
        "        u = u.reshape(x.numel())\n",
        "        unp = u.numpy()\n",
        "\n",
        "        return unp\n",
        "\n",
        "    \n",
        "    def closure(self, report_rate = 100):\n",
        "        running_loss = 0.0\n",
        "        # Records time the loop starts\n",
        "        #start_time = perf_counter()\n",
        "        elapsed_time = 0.0\n",
        "        # reset gradients to zero:\n",
        "        self.optimizer.zero_grad()\n",
        "        \n",
        "        # u & f predictions:\n",
        "        u_prediction = self.net_u(self.x_u, self.t_u)\n",
        "        f_prediction = self.net_f(self.x_f, self.t_f)\n",
        "\n",
        "        # losses:\n",
        "        u_loss = self.loss(u_prediction, self.u)\n",
        "        f_loss = self.loss(f_prediction, self.null)\n",
        "        self.ls = u_loss + f_loss\n",
        "\n",
        "        # save loss to list\n",
        "        running_loss += self.ls.detach().numpy()\n",
        "\n",
        "        # derivative with respect to net's weights:\n",
        "        self.ls.backward()\n",
        "\n",
        "        # increase iteration count:\n",
        "        self.iter += 1\n",
        "\n",
        "        # print report:\n",
        "        if not self.iter % 100:\n",
        "            current_time = perf_counter()\n",
        "            elapsed_time = current_time - self.start_time\n",
        "            print('Epoch: {0:}, \\tLoss: {1:2.8f} \\t\\telapsed_time:{2:4.3f}'.format(self.iter, \n",
        "                                                                               running_loss/report_rate, \n",
        "                                                                               elapsed_time))\n",
        "            self.loss_list.append(running_loss/report_rate)\n",
        "            running_loss = 0.0\n",
        "\n",
        "        return self.ls\n",
        "        \n",
        "    def train(self):\n",
        "        \"\"\" training loop \"\"\"\n",
        "        self.net.train()\n",
        "        self.start_time = perf_counter()\n",
        "        self.optimizer.step(self.closure)\n",
        "        \n",
        "        return self.loss_list\n",
        "\n",
        "\n",
        "            "
      ]
    },
    {
      "cell_type": "code",
      "execution_count": null,
      "metadata": {
        "id": "qsg3_qOSV1Ky"
      },
      "outputs": [],
      "source": [
        "def plot_loss1(loss, label):\n",
        "    \"\"\"\n",
        "    Plots the loss function.\n",
        "    -> loss: list containing the losses\n",
        "    -> label: label for this loss\n",
        "    \"\"\"\n",
        "    ax.plot(100*np.arange(len(loss)), loss, label='%s'%label)\n",
        "    ax.set_xlabel('Iterations')\n",
        "    ax.set_ylabel('Loss')\n",
        "    plt.legend(loc='best')"
      ]
    },
    {
      "cell_type": "code",
      "execution_count": null,
      "metadata": {
        "id": "23yE2LCwlJU7"
      },
      "outputs": [],
      "source": [
        "nu = 0.01 / np.pi         # constant in the diff. equation\n",
        "N_u = 100                 # number of data points in the boundaries\n",
        "N_f = 10000               # number of collocation points"
      ]
    },
    {
      "cell_type": "code",
      "execution_count": null,
      "metadata": {
        "id": "ITX23YXFu_SC"
      },
      "outputs": [],
      "source": [
        "# X_u_train: a set of pairs (x, t) located at:\n",
        "    # x =  1, t = [0,  1]\n",
        "    # x = -1, t = [0,  1]\n",
        "    # t =  0, x = [-1, 1]\n",
        "x_upper = np.ones((N_u//4, 1), dtype=float)\n",
        "x_lower = np.ones((N_u//4, 1), dtype=float) * (-1)\n",
        "t_zero = np.zeros((N_u//2, 1), dtype=float)\n",
        "\n",
        "t_upper = np.random.rand(N_u//4, 1)\n",
        "t_lower = np.random.rand(N_u//4, 1)\n",
        "x_zero = (-1) + np.random.rand(N_u//2, 1) * (1 - (-1))"
      ]
    },
    {
      "cell_type": "code",
      "execution_count": null,
      "metadata": {
        "id": "rOLkS5Ytv84E"
      },
      "outputs": [],
      "source": [
        "# stack uppers, lowers and zeros:\n",
        "X_upper = np.hstack( (x_upper, t_upper) )\n",
        "X_lower = np.hstack( (x_lower, t_lower) )\n",
        "X_zero = np.hstack( (x_zero, t_zero) )"
      ]
    },
    {
      "cell_type": "code",
      "execution_count": null,
      "metadata": {
        "id": "sc6HD4owwAFW"
      },
      "outputs": [],
      "source": [
        "# each one of these three arrays has 2 columns, \n",
        "# now we stack them vertically, the resulting array will also have 2 \n",
        "# columns and 100 rows:\n",
        "X_u_train = np.vstack( (X_upper, X_lower, X_zero) )"
      ]
    },
    {
      "cell_type": "code",
      "execution_count": null,
      "metadata": {
        "id": "UW8X7G1bwDjr"
      },
      "outputs": [],
      "source": [
        "# shuffle X_u_train:\n",
        "index = np.arange(0, N_u)\n",
        "np.random.shuffle(index)\n",
        "X_u_train = X_u_train[index, :]"
      ]
    },
    {
      "cell_type": "code",
      "execution_count": null,
      "metadata": {
        "id": "ZIbEhh8ewGY3"
      },
      "outputs": [],
      "source": [
        "# make X_f_train:\n",
        "X_f_train = np.zeros((N_f, 2), dtype=float)\n",
        "for row in range(N_f):\n",
        "    x = uniform(-1, 1)  # x range\n",
        "    t = uniform( 0, 1)  # t range\n",
        "\n",
        "    X_f_train[row, 0] = x \n",
        "    X_f_train[row, 1] = t"
      ]
    },
    {
      "cell_type": "code",
      "execution_count": null,
      "metadata": {
        "id": "esjzfkcJwJWP"
      },
      "outputs": [],
      "source": [
        "# add the boundary points to the collocation points:\n",
        "X_f_train = np.vstack( (X_f_train, X_u_train) )\n",
        "\n",
        "# make u_train\n",
        "u_upper =  np.zeros((N_u//4, 1), dtype=float)\n",
        "u_lower =  np.zeros((N_u//4, 1), dtype=float) \n",
        "u_zero = -np.sin(np.pi * x_zero)  "
      ]
    },
    {
      "cell_type": "code",
      "execution_count": null,
      "metadata": {
        "id": "IEAURmnbwNa-"
      },
      "outputs": [],
      "source": [
        "# stack them in the same order as X_u_train was stacked:\n",
        "u_train = np.vstack( (u_upper, u_lower, u_zero) )"
      ]
    },
    {
      "cell_type": "code",
      "execution_count": null,
      "metadata": {
        "id": "6fECsS83wQJc"
      },
      "outputs": [],
      "source": [
        "# match indices with X_u_train\n",
        "u_train = u_train[index, :]"
      ]
    },
    {
      "cell_type": "code",
      "execution_count": null,
      "metadata": {
        "id": "yYia2s0lnEVM"
      },
      "outputs": [],
      "source": [
        "def model_capacity(net):\n",
        "    \"\"\"\n",
        "    Prints the number of parameters and the number of layers in the network\n",
        "    -> Requires a neural network as input\n",
        "    \"\"\"\n",
        "    number_of_learnable_params = sum(p.numel() for p in net.parameters() if p.requires_grad)\n",
        "    num_layers = len(list(net.parameters()))\n",
        "    print(\"\\nThe number of layers in the model: %d\" % num_layers)\n",
        "    print(\"The number of learnable parameters in the model: %d\\n\" % number_of_learnable_params)  "
      ]
    },
    {
      "cell_type": "code",
      "execution_count": null,
      "metadata": {
        "id": "Je5wy78pRsF-"
      },
      "outputs": [],
      "source": [
        "class DenseResNet(nn.Module):\n",
        "    \"\"\"\n",
        "    This is a ResNet Class.\n",
        "    -> dim_in: network's input dimension\n",
        "    -> dim_out: network's output dimension\n",
        "    -> num_resnet_blocks: number of ResNet blocks\n",
        "    -> num_layers_per_block: number of layers per ResNet block\n",
        "    -> num_neurons: number of neurons in each layer\n",
        "    -> activation: Non-linear activations function that you want to use. E.g. nn.Sigmoid(), nn.ReLU()\n",
        "    -> fourier_features: whether to pass the inputs through Fourier mapping. E.g. True or False\n",
        "    -> m_freq: how many frequencies do you want the inputs to be mapped to\n",
        "    -> sigma: controls the spectrum of frequencies. \n",
        "              If sigma is greater more frequencies are consider. \n",
        "              You can also look at it as sampling from the standard normal, Z~N(0, 1), \n",
        "              and mapping to another normal, X~N(\\mu, \\sigma^2), using x = mu + sigma*z.\n",
        "    -> tune_beta: do you want to consider the parameter beta in the activation functions in each layer? E.g., Tanh(beta*x).\n",
        "                  In practice it is observed that training beta (i.e. tune_beta=True) could improve convergence. \n",
        "                  If tune_beta=False, you get the a fixed beta i.e. beta=1.\n",
        "    -> The method model_capacity() returns the number of layers and parameters in the network.\n",
        "    \"\"\"\n",
        "    def __init__(self, dim_in=2, dim_out=1, num_resnet_blocks=3, \n",
        "                 num_layers_per_block=3, num_neurons=20, activation=nn.Tanh(), \n",
        "                 fourier_features=False, m_freqs=100, sigma=10, tune_beta=False):\n",
        "        super(DenseResNet, self).__init__()\n",
        "\n",
        "        self.num_resnet_blocks = num_resnet_blocks\n",
        "        self.num_layers_per_block = num_layers_per_block\n",
        "        self.fourier_features = fourier_features\n",
        "        self.activation = activation\n",
        "        self.tune_beta = tune_beta\n",
        "\n",
        "        if tune_beta:\n",
        "            self.beta0 = nn.Parameter(torch.ones(1, 1))\n",
        "            self.beta = nn.Parameter(torch.ones(self.num_resnet_blocks, self.num_layers_per_block))\n",
        "\n",
        "        else: \n",
        "            self.beta0 = torch.ones(1, 1)\n",
        "            self.beta = torch.ones(self.num_resnet_blocks, self.num_layers_per_block)\n",
        "\n",
        "        self.first = nn.Linear(dim_in, num_neurons)\n",
        "\n",
        "        self.resblocks = nn.ModuleList([\n",
        "            nn.ModuleList([nn.Linear(num_neurons, num_neurons) \n",
        "                for _ in range(num_layers_per_block)]) \n",
        "            for _ in range(num_resnet_blocks)])\n",
        "\n",
        "        self.last = nn.Linear(num_neurons, dim_out)\n",
        "\n",
        "        if fourier_features:\n",
        "            self.first = nn.Linear(2*m_freqs, num_neurons)\n",
        "            self.B = nn.Parameter(sigma*torch.randn(dim_in, m_freqs)) # to converts inputs to m_freqs\n",
        "\n",
        "    def forward(self, x):\n",
        "        if self.fourier_features:\n",
        "            cosx = torch.cos(torch.matmul(x, self.B))\n",
        "            sinx = torch.sin(torch.matmul(x, self.B))\n",
        "            x = torch.cat((cosx, sinx), dim=1)\n",
        "            x = self.activation(self.beta0*self.first(x)) \n",
        "\n",
        "        else:\n",
        "            x = self.activation(self.beta0*self.first(x))\n",
        "\n",
        "        for i in range(self.num_resnet_blocks):\n",
        "            z = self.activation(self.beta[i][0]*self.resblocks[i][0](x))\n",
        "\n",
        "            for j in range(1, self.num_layers_per_block):\n",
        "                z = self.activation(self.beta[i][j]*self.resblocks[i][j](z))\n",
        "\n",
        "            x = z + x\n",
        "\n",
        "        out = self.last(x)\n",
        "\n",
        "        return out\n",
        "\n",
        "    def model_capacity(self):\n",
        "        \"\"\"\n",
        "        Prints the number of parameters and the number of layers in the network\n",
        "        \"\"\"\n",
        "        number_of_learnable_params = sum(p.numel() for p in self.parameters() if p.requires_grad)\n",
        "        num_layers = len(list(self.parameters()))\n",
        "        print(\"\\n\\nThe number of layers in the model: %d\" % num_layers)\n",
        "        print(\"\\nThe number of learnable parameters in the model: %d\" % number_of_learnable_params)  "
      ]
    },
    {
      "cell_type": "markdown",
      "metadata": {
        "id": "GrXHiwoSnRrL"
      },
      "source": [
        "### Simple Dense Network with Tanh activation."
      ]
    },
    {
      "cell_type": "code",
      "execution_count": null,
      "metadata": {
        "colab": {
          "base_uri": "https://localhost:8080/"
        },
        "id": "bICRT_JJnP88",
        "outputId": "beb9f3a4-0889-403c-a87f-663f9bed90ed"
      },
      "outputs": [
        {
          "name": "stdout",
          "output_type": "stream",
          "text": [
            "\n",
            "The number of layers in the model: 24\n",
            "The number of learnable parameters in the model: 4281\n",
            "\n"
          ]
        }
      ],
      "source": [
        "simple_net = nn.Sequential(\n",
        "                nn.Linear(2, 20), nn.Tanh(),\n",
        "                nn.Linear(20, 20), nn.Tanh(),\n",
        "                nn.Linear(20, 20), nn.Tanh(),\n",
        "                nn.Linear(20, 20), nn.Tanh(),\n",
        "                nn.Linear(20, 20), nn.Tanh(),\n",
        "                nn.Linear(20, 20), nn.Tanh(),\n",
        "                nn.Linear(20, 20), nn.Tanh(),\n",
        "                nn.Linear(20, 20), nn.Tanh(),\n",
        "                nn.Linear(20, 20), nn.Tanh(),\n",
        "                nn.Linear(20, 20), nn.Tanh(),\n",
        "                nn.Linear(20, 20), nn.Tanh(),\n",
        "                nn.Linear(20, 1))\n",
        "model_capacity(simple_net)"
      ]
    },
    {
      "cell_type": "code",
      "execution_count": null,
      "metadata": {
        "colab": {
          "base_uri": "https://localhost:8080/"
        },
        "id": "L8PTPdrsoT87",
        "outputId": "28a922a1-3b0f-441f-f034-a87057a14e0a"
      },
      "outputs": [
        {
          "name": "stdout",
          "output_type": "stream",
          "text": [
            "Sequential(\n",
            "  (0): Linear(in_features=2, out_features=20, bias=True)\n",
            "  (1): Tanh()\n",
            "  (2): Linear(in_features=20, out_features=20, bias=True)\n",
            "  (3): Tanh()\n",
            "  (4): Linear(in_features=20, out_features=20, bias=True)\n",
            "  (5): Tanh()\n",
            "  (6): Linear(in_features=20, out_features=20, bias=True)\n",
            "  (7): Tanh()\n",
            "  (8): Linear(in_features=20, out_features=20, bias=True)\n",
            "  (9): Tanh()\n",
            "  (10): Linear(in_features=20, out_features=20, bias=True)\n",
            "  (11): Tanh()\n",
            "  (12): Linear(in_features=20, out_features=20, bias=True)\n",
            "  (13): Tanh()\n",
            "  (14): Linear(in_features=20, out_features=20, bias=True)\n",
            "  (15): Tanh()\n",
            "  (16): Linear(in_features=20, out_features=20, bias=True)\n",
            "  (17): Tanh()\n",
            "  (18): Linear(in_features=20, out_features=20, bias=True)\n",
            "  (19): Tanh()\n",
            "  (20): Linear(in_features=20, out_features=20, bias=True)\n",
            "  (21): Tanh()\n",
            "  (22): Linear(in_features=20, out_features=1, bias=True)\n",
            ")\n"
          ]
        }
      ],
      "source": [
        "simple_pinn = PhysicsInformedNN(X_u_train, u_train, X_f_train, simple_net)"
      ]
    },
    {
      "cell_type": "code",
      "execution_count": null,
      "metadata": {
        "colab": {
          "background_save": true,
          "base_uri": "https://localhost:8080/"
        },
        "id": "Dkckfb8zoa5i",
        "outputId": "2e04bb2c-f110-4868-f12e-b5b12339152a"
      },
      "outputs": [
        {
          "name": "stdout",
          "output_type": "stream",
          "text": [
            "Epoch: 100, \tLoss: 0.00172789 \t\telapsed_time:18.919\n",
            "Epoch: 200, \tLoss: 0.00103595 \t\telapsed_time:37.485\n",
            "Epoch: 300, \tLoss: 0.00081332 \t\telapsed_time:56.320\n",
            "Epoch: 400, \tLoss: 0.00058789 \t\telapsed_time:76.177\n",
            "Epoch: 500, \tLoss: 0.00034856 \t\telapsed_time:94.790\n",
            "Epoch: 600, \tLoss: 0.00022109 \t\telapsed_time:113.342\n",
            "Epoch: 700, \tLoss: 0.00016882 \t\telapsed_time:131.812\n",
            "Epoch: 800, \tLoss: 0.00013838 \t\telapsed_time:150.297\n",
            "Epoch: 900, \tLoss: 0.00011737 \t\telapsed_time:168.696\n",
            "Epoch: 1000, \tLoss: 0.00010353 \t\telapsed_time:187.231\n",
            "Epoch: 1100, \tLoss: 0.00009410 \t\telapsed_time:205.783\n",
            "Epoch: 1200, \tLoss: 0.00008383 \t\telapsed_time:224.225\n",
            "Epoch: 1300, \tLoss: 0.00007761 \t\telapsed_time:242.507\n",
            "Epoch: 1400, \tLoss: 0.00006935 \t\telapsed_time:261.053\n",
            "Epoch: 1500, \tLoss: 0.00006215 \t\telapsed_time:279.552\n",
            "Epoch: 1600, \tLoss: 0.00005677 \t\telapsed_time:297.895\n",
            "Epoch: 1700, \tLoss: 0.00005014 \t\telapsed_time:316.233\n",
            "Epoch: 1800, \tLoss: 0.00004409 \t\telapsed_time:334.655\n",
            "Epoch: 1900, \tLoss: 0.00003853 \t\telapsed_time:353.084\n",
            "Epoch: 2000, \tLoss: 0.00003500 \t\telapsed_time:371.485\n",
            "Epoch: 2100, \tLoss: 0.00002988 \t\telapsed_time:389.888\n",
            "Epoch: 2200, \tLoss: 0.00002454 \t\telapsed_time:408.354\n",
            "Epoch: 2300, \tLoss: 0.00001964 \t\telapsed_time:426.791\n",
            "Epoch: 2400, \tLoss: 0.00001791 \t\telapsed_time:445.218\n",
            "Epoch: 2500, \tLoss: 0.00001639 \t\telapsed_time:463.835\n",
            "Epoch: 2600, \tLoss: 0.00001469 \t\telapsed_time:482.387\n",
            "Epoch: 2700, \tLoss: 0.00001310 \t\telapsed_time:500.817\n",
            "Epoch: 2800, \tLoss: 0.00001120 \t\telapsed_time:519.342\n",
            "Epoch: 2900, \tLoss: 0.00001015 \t\telapsed_time:537.802\n",
            "Epoch: 3000, \tLoss: 0.00000882 \t\telapsed_time:556.434\n",
            "Epoch: 3100, \tLoss: 0.00000806 \t\telapsed_time:574.984\n",
            "Epoch: 3200, \tLoss: 0.00000756 \t\telapsed_time:593.434\n",
            "Epoch: 3300, \tLoss: 0.00000700 \t\telapsed_time:611.835\n",
            "Epoch: 3400, \tLoss: 0.00000649 \t\telapsed_time:630.295\n",
            "Epoch: 3500, \tLoss: 0.00000599 \t\telapsed_time:648.681\n",
            "Epoch: 3600, \tLoss: 0.00000491 \t\telapsed_time:667.183\n",
            "Epoch: 3700, \tLoss: 0.00000432 \t\telapsed_time:685.751\n",
            "Epoch: 3800, \tLoss: 0.00000391 \t\telapsed_time:704.078\n",
            "Epoch: 3900, \tLoss: 0.00000357 \t\telapsed_time:722.461\n",
            "Epoch: 4000, \tLoss: 0.00000335 \t\telapsed_time:740.846\n",
            "Epoch: 4100, \tLoss: 0.00000301 \t\telapsed_time:759.329\n",
            "Epoch: 4200, \tLoss: 0.00000278 \t\telapsed_time:777.699\n",
            "Epoch: 4300, \tLoss: 0.00000256 \t\telapsed_time:796.279\n",
            "Epoch: 4400, \tLoss: 0.00000230 \t\telapsed_time:814.687\n",
            "Epoch: 4500, \tLoss: 0.00000212 \t\telapsed_time:833.013\n",
            "Epoch: 4600, \tLoss: 0.00000191 \t\telapsed_time:851.314\n",
            "Epoch: 4700, \tLoss: 0.00000175 \t\telapsed_time:869.548\n",
            "Epoch: 4800, \tLoss: 0.00000163 \t\telapsed_time:887.689\n",
            "Epoch: 4900, \tLoss: 0.00000161 \t\telapsed_time:905.853\n",
            "Epoch: 5000, \tLoss: 0.00000136 \t\telapsed_time:923.918\n",
            "Epoch: 5100, \tLoss: 0.00000125 \t\telapsed_time:941.961\n",
            "Epoch: 5200, \tLoss: 0.00000115 \t\telapsed_time:960.032\n",
            "Epoch: 5300, \tLoss: 0.00000108 \t\telapsed_time:978.268\n",
            "Epoch: 5400, \tLoss: 0.00000100 \t\telapsed_time:996.451\n",
            "Epoch: 5500, \tLoss: 0.00000093 \t\telapsed_time:1014.352\n",
            "Epoch: 5600, \tLoss: 0.00000086 \t\telapsed_time:1032.268\n",
            "Epoch: 5700, \tLoss: 0.00000079 \t\telapsed_time:1050.352\n",
            "Epoch: 5800, \tLoss: 0.00000074 \t\telapsed_time:1068.587\n",
            "Epoch: 5900, \tLoss: 0.00000065 \t\telapsed_time:1086.731\n",
            "Epoch: 6000, \tLoss: 0.00000060 \t\telapsed_time:1104.798\n",
            "Epoch: 6100, \tLoss: 0.00000056 \t\telapsed_time:1122.851\n",
            "Epoch: 6200, \tLoss: 0.00000052 \t\telapsed_time:1140.746\n",
            "Epoch: 6300, \tLoss: 0.00000050 \t\telapsed_time:1158.671\n",
            "Epoch: 6400, \tLoss: 0.00000048 \t\telapsed_time:1176.533\n",
            "Epoch: 6500, \tLoss: 0.00000045 \t\telapsed_time:1194.542\n",
            "Epoch: 6600, \tLoss: 0.00000042 \t\telapsed_time:1212.545\n",
            "Epoch: 6700, \tLoss: 0.00000040 \t\telapsed_time:1230.510\n",
            "Epoch: 6800, \tLoss: 0.00000038 \t\telapsed_time:1248.450\n",
            "Epoch: 6900, \tLoss: 0.00000036 \t\telapsed_time:1266.382\n",
            "Epoch: 7000, \tLoss: 0.00000032 \t\telapsed_time:1284.402\n",
            "Epoch: 7100, \tLoss: 0.00000031 \t\telapsed_time:1302.460\n",
            "Epoch: 7200, \tLoss: 0.00000030 \t\telapsed_time:1320.459\n",
            "Epoch: 7300, \tLoss: 0.00000029 \t\telapsed_time:1338.405\n",
            "Epoch: 7400, \tLoss: 0.00000028 \t\telapsed_time:1356.277\n",
            "Epoch: 7500, \tLoss: 0.00000026 \t\telapsed_time:1374.174\n",
            "Epoch: 7600, \tLoss: 0.00000026 \t\telapsed_time:1392.078\n",
            "Epoch: 7700, \tLoss: 0.00000025 \t\telapsed_time:1409.956\n",
            "Epoch: 7800, \tLoss: 0.00000024 \t\telapsed_time:1427.874\n",
            "Epoch: 7900, \tLoss: 0.00000022 \t\telapsed_time:1445.847\n",
            "Epoch: 8000, \tLoss: 0.00000022 \t\telapsed_time:1463.764\n",
            "CPU times: user 23min 54s, sys: 49.6 s, total: 24min 44s\n",
            "Wall time: 24min 40s\n"
          ]
        }
      ],
      "source": [
        "%%time\n",
        "# train the PINN:\n",
        "loss_list_simple_net = simple_pinn.train()"
      ]
    },
    {
      "cell_type": "code",
      "execution_count": null,
      "metadata": {
        "colab": {
          "background_save": true
        },
        "id": "i7hv93b8nrrk"
      },
      "outputs": [],
      "source": [
        "torch.save(simple_net, \"/content/gdrive/MyDrive/PINN/ExampleCode/Data/simplenet.pt\")"
      ]
    },
    {
      "cell_type": "code",
      "execution_count": null,
      "metadata": {
        "colab": {
          "background_save": true
        },
        "id": "NZz3S-u0o0OY",
        "outputId": "d0034154-7369-4e5d-a4b1-28b4c5934b6a"
      },
      "outputs": [
        {
          "data": {
            "image/png": "[encoded data removed]",
            "text/plain": [
              "<Figure size 600x400 with 1 Axes>"
            ]
          },
          "metadata": {},
          "output_type": "display_data"
        }
      ],
      "source": [
        "# Visualizing the training loss\n",
        "figure, ax = plt.subplots(dpi=100)\n",
        "plot_loss1(loss_list_simple_net, 'Simple Net')\n",
        "ax.plot(100*np.arange(len(loss_list_simple_net)), 1.3101098228008927e-22 * np.ones(len(loss_list_simple_net)), label='FDM residual')\n",
        "plt.legend(loc='best'); "
      ]
    },
    {
      "cell_type": "code",
      "execution_count": null,
      "metadata": {
        "colab": {
          "background_save": true
        },
        "id": "goWb5wjk-Mah",
        "outputId": "90d4f427-9956-4e16-d131-9eefc88d048a"
      },
      "outputs": [
        {
          "name": "stderr",
          "output_type": "stream",
          "text": [
            "/usr/local/lib/python3.7/dist-packages/torch/functional.py:568: UserWarning: torch.meshgrid: in an upcoming release, it will be required to pass the indexing argument. (Triggered internally at  ../aten/src/ATen/native/TensorShape.cpp:2228.)\n",
            "  return _VF.meshgrid(tensors, **kwargs)  # type: ignore[attr-defined]\n"
          ]
        },
        {
          "data": {
            "image/png": "[encoded data removed]",
            "text/plain": [
              "<Figure size 648x324 with 2 Axes>"
            ]
          },
          "metadata": {},
          "output_type": "display_data"
        },
        {
          "data": {
            "text/plain": [
              "<Figure size 432x288 with 0 Axes>"
            ]
          },
          "metadata": {},
          "output_type": "display_data"
        }
      ],
      "source": [
        "simple_pinn.plot(figname = 'simple-pinn')"
      ]
    },
    {
      "cell_type": "code",
      "execution_count": null,
      "metadata": {
        "colab": {
          "background_save": true
        },
        "id": "R82sFgHpSwO6",
        "outputId": "60102b46-c0a5-4b40-d265-9c5faf4d5fca"
      },
      "outputs": [
        {
          "name": "stdout",
          "output_type": "stream",
          "text": [
            "\n",
            "The number of layers in the model: 24\n",
            "The number of learnable parameters in the model: 4281\n",
            "\n"
          ]
        }
      ],
      "source": [
        "res_net = DenseResNet(dim_in=2, dim_out=1, num_resnet_blocks=5, \n",
        "                        num_layers_per_block=2, num_neurons=20, activation=nn.Tanh(), \n",
        "                        fourier_features=False, m_freqs=100, sigma=10, tune_beta=False)\n",
        "model_capacity(res_net)"
      ]
    },
    {
      "cell_type": "code",
      "execution_count": null,
      "metadata": {
        "colab": {
          "background_save": true
        },
        "id": "fjeGYEVbwXHX",
        "outputId": "66e6bd29-6508-4beb-e4bc-52083734c00b"
      },
      "outputs": [
        {
          "name": "stdout",
          "output_type": "stream",
          "text": [
            "DenseResNet(\n",
            "  (activation): Tanh()\n",
            "  (first): Linear(in_features=2, out_features=20, bias=True)\n",
            "  (resblocks): ModuleList(\n",
            "    (0): ModuleList(\n",
            "      (0): Linear(in_features=20, out_features=20, bias=True)\n",
            "      (1): Linear(in_features=20, out_features=20, bias=True)\n",
            "    )\n",
            "    (1): ModuleList(\n",
            "      (0): Linear(in_features=20, out_features=20, bias=True)\n",
            "      (1): Linear(in_features=20, out_features=20, bias=True)\n",
            "    )\n",
            "    (2): ModuleList(\n",
            "      (0): Linear(in_features=20, out_features=20, bias=True)\n",
            "      (1): Linear(in_features=20, out_features=20, bias=True)\n",
            "    )\n",
            "    (3): ModuleList(\n",
            "      (0): Linear(in_features=20, out_features=20, bias=True)\n",
            "      (1): Linear(in_features=20, out_features=20, bias=True)\n",
            "    )\n",
            "    (4): ModuleList(\n",
            "      (0): Linear(in_features=20, out_features=20, bias=True)\n",
            "      (1): Linear(in_features=20, out_features=20, bias=True)\n",
            "    )\n",
            "  )\n",
            "  (last): Linear(in_features=20, out_features=1, bias=True)\n",
            ")\n"
          ]
        }
      ],
      "source": [
        "# pass data sets to the PINN:\n",
        "res_net_pinn = PhysicsInformedNN(X_u_train, u_train, X_f_train, res_net)"
      ]
    },
    {
      "cell_type": "code",
      "execution_count": null,
      "metadata": {
        "id": "6Uh02umC7OSt",
        "colab": {
          "base_uri": "https://localhost:8080/"
        },
        "outputId": "b8969324-a3c1-4be5-f181-8651c2aeecdb"
      },
      "outputs": [
        {
          "output_type": "stream",
          "name": "stdout",
          "text": [
            "Epoch: 100, \tLoss: 0.00083868 \t\telapsed_time:21.082\n",
            "Epoch: 200, \tLoss: 0.00053238 \t\telapsed_time:42.107\n",
            "Epoch: 300, \tLoss: 0.00034700 \t\telapsed_time:63.112\n",
            "Epoch: 400, \tLoss: 0.00024816 \t\telapsed_time:84.131\n",
            "Epoch: 500, \tLoss: 0.00019294 \t\telapsed_time:105.290\n",
            "Epoch: 600, \tLoss: 0.00015926 \t\telapsed_time:126.480\n",
            "Epoch: 700, \tLoss: 0.00012462 \t\telapsed_time:147.621\n",
            "Epoch: 800, \tLoss: 0.00010177 \t\telapsed_time:168.686\n",
            "Epoch: 900, \tLoss: 0.00008091 \t\telapsed_time:189.737\n",
            "Epoch: 1000, \tLoss: 0.00006849 \t\telapsed_time:210.987\n",
            "Epoch: 1100, \tLoss: 0.00005994 \t\telapsed_time:232.084\n",
            "Epoch: 1200, \tLoss: 0.00004907 \t\telapsed_time:253.185\n",
            "Epoch: 1300, \tLoss: 0.00004465 \t\telapsed_time:274.258\n",
            "Epoch: 1400, \tLoss: 0.00003635 \t\telapsed_time:295.404\n",
            "Epoch: 1500, \tLoss: 0.00003158 \t\telapsed_time:316.370\n",
            "Epoch: 1600, \tLoss: 0.00002829 \t\telapsed_time:337.454\n",
            "Epoch: 1700, \tLoss: 0.00002528 \t\telapsed_time:358.539\n",
            "Epoch: 1800, \tLoss: 0.00002271 \t\telapsed_time:379.600\n",
            "Epoch: 1900, \tLoss: 0.00002038 \t\telapsed_time:400.622\n",
            "Epoch: 2000, \tLoss: 0.00001986 \t\telapsed_time:421.713\n",
            "Epoch: 2100, \tLoss: 0.00001789 \t\telapsed_time:442.733\n",
            "Epoch: 2200, \tLoss: 0.00001729 \t\telapsed_time:463.886\n",
            "Epoch: 2300, \tLoss: 0.00001560 \t\telapsed_time:485.063\n",
            "Epoch: 2400, \tLoss: 0.00001413 \t\telapsed_time:506.287\n",
            "Epoch: 2500, \tLoss: 0.00001303 \t\telapsed_time:527.358\n",
            "Epoch: 2600, \tLoss: 0.00000914 \t\telapsed_time:548.385\n",
            "Epoch: 2700, \tLoss: 0.00000786 \t\telapsed_time:569.436\n",
            "Epoch: 2800, \tLoss: 0.00000681 \t\telapsed_time:590.543\n",
            "Epoch: 2900, \tLoss: 0.00000631 \t\telapsed_time:611.695\n",
            "Epoch: 3000, \tLoss: 0.00000532 \t\telapsed_time:632.833\n",
            "Epoch: 3100, \tLoss: 0.00000482 \t\telapsed_time:653.938\n",
            "Epoch: 3200, \tLoss: 0.00000422 \t\telapsed_time:674.973\n",
            "Epoch: 3300, \tLoss: 0.00000383 \t\telapsed_time:696.085\n",
            "Epoch: 3400, \tLoss: 0.00000356 \t\telapsed_time:717.144\n",
            "Epoch: 3500, \tLoss: 0.00000322 \t\telapsed_time:738.180\n",
            "Epoch: 3600, \tLoss: 0.00000302 \t\telapsed_time:759.238\n",
            "Epoch: 3700, \tLoss: 0.00000279 \t\telapsed_time:780.369\n",
            "Epoch: 3800, \tLoss: 0.00000262 \t\telapsed_time:801.412\n",
            "Epoch: 3900, \tLoss: 0.00000250 \t\telapsed_time:822.519\n",
            "Epoch: 4000, \tLoss: 0.00000234 \t\telapsed_time:843.774\n",
            "Epoch: 4100, \tLoss: 0.00000212 \t\telapsed_time:864.941\n",
            "Epoch: 4200, \tLoss: 0.00000202 \t\telapsed_time:886.168\n",
            "Epoch: 4300, \tLoss: 0.00000183 \t\telapsed_time:907.332\n",
            "Epoch: 4400, \tLoss: 0.00000172 \t\telapsed_time:928.558\n",
            "Epoch: 4500, \tLoss: 0.00000159 \t\telapsed_time:949.742\n",
            "Epoch: 4600, \tLoss: 0.00000148 \t\telapsed_time:970.966\n",
            "Epoch: 4700, \tLoss: 0.00000141 \t\telapsed_time:992.274\n",
            "Epoch: 4800, \tLoss: 0.00000135 \t\telapsed_time:1013.233\n",
            "Epoch: 4900, \tLoss: 0.00000128 \t\telapsed_time:1034.172\n",
            "Epoch: 5000, \tLoss: 0.00000123 \t\telapsed_time:1055.202\n",
            "Epoch: 5100, \tLoss: 0.00000117 \t\telapsed_time:1076.191\n",
            "Epoch: 5200, \tLoss: 0.00000111 \t\telapsed_time:1097.400\n",
            "Epoch: 5300, \tLoss: 0.00000105 \t\telapsed_time:1118.528\n",
            "Epoch: 5400, \tLoss: 0.00000097 \t\telapsed_time:1139.619\n",
            "Epoch: 5500, \tLoss: 0.00000092 \t\telapsed_time:1160.642\n",
            "Epoch: 5600, \tLoss: 0.00000087 \t\telapsed_time:1181.763\n",
            "Epoch: 5700, \tLoss: 0.00000079 \t\telapsed_time:1202.728\n",
            "Epoch: 5800, \tLoss: 0.00000074 \t\telapsed_time:1223.718\n",
            "Epoch: 5900, \tLoss: 0.00000070 \t\telapsed_time:1244.731\n",
            "Epoch: 6000, \tLoss: 0.00000068 \t\telapsed_time:1265.656\n",
            "Epoch: 6100, \tLoss: 0.00000064 \t\telapsed_time:1286.648\n",
            "Epoch: 6200, \tLoss: 0.00000062 \t\telapsed_time:1307.602\n",
            "Epoch: 6300, \tLoss: 0.00000060 \t\telapsed_time:1328.594\n",
            "Epoch: 6400, \tLoss: 0.00000057 \t\telapsed_time:1349.596\n",
            "Epoch: 6500, \tLoss: 0.00000054 \t\telapsed_time:1370.562\n",
            "Epoch: 6600, \tLoss: 0.00000051 \t\telapsed_time:1391.704\n",
            "Epoch: 6700, \tLoss: 0.00000048 \t\telapsed_time:1412.866\n",
            "Epoch: 6800, \tLoss: 0.00000046 \t\telapsed_time:1434.193\n",
            "Epoch: 6900, \tLoss: 0.00000044 \t\telapsed_time:1455.512\n",
            "Epoch: 7000, \tLoss: 0.00000041 \t\telapsed_time:1476.859\n",
            "Epoch: 7100, \tLoss: 0.00000040 \t\telapsed_time:1497.985\n",
            "Epoch: 7200, \tLoss: 0.00000039 \t\telapsed_time:1518.960\n",
            "Epoch: 7300, \tLoss: 0.00000048 \t\telapsed_time:1540.001\n",
            "Epoch: 7400, \tLoss: 0.00000036 \t\telapsed_time:1560.980\n",
            "Epoch: 7500, \tLoss: 0.00000033 \t\telapsed_time:1581.943\n",
            "Epoch: 7600, \tLoss: 0.00000032 \t\telapsed_time:1603.041\n",
            "Epoch: 7700, \tLoss: 0.00000031 \t\telapsed_time:1624.048\n",
            "Epoch: 7800, \tLoss: 0.00000029 \t\telapsed_time:1645.012\n",
            "Epoch: 7900, \tLoss: 0.00000028 \t\telapsed_time:1666.042\n",
            "Epoch: 8000, \tLoss: 0.00000027 \t\telapsed_time:1687.142\n",
            "Epoch: 8100, \tLoss: 0.00000026 \t\telapsed_time:1708.178\n",
            "Epoch: 8200, \tLoss: 0.00000025 \t\telapsed_time:1729.262\n",
            "Epoch: 8300, \tLoss: 0.00000025 \t\telapsed_time:1750.367\n",
            "Epoch: 8400, \tLoss: 0.00000024 \t\telapsed_time:1771.394\n",
            "Epoch: 8500, \tLoss: 0.00000023 \t\telapsed_time:1792.447\n",
            "Epoch: 8600, \tLoss: 0.00000022 \t\telapsed_time:1813.456\n",
            "Epoch: 8700, \tLoss: 0.00000022 \t\telapsed_time:1834.518\n",
            "Epoch: 8800, \tLoss: 0.00000024 \t\telapsed_time:1855.468\n",
            "Epoch: 8900, \tLoss: 0.00000021 \t\telapsed_time:1876.492\n",
            "Epoch: 9000, \tLoss: 0.00000020 \t\telapsed_time:1897.536\n",
            "Epoch: 9100, \tLoss: 0.00000020 \t\telapsed_time:1918.623\n",
            "Epoch: 9200, \tLoss: 0.00000020 \t\telapsed_time:1939.701\n",
            "Epoch: 9300, \tLoss: 0.00000019 \t\telapsed_time:1960.690\n",
            "Epoch: 9400, \tLoss: 0.00000018 \t\telapsed_time:1981.804\n",
            "Epoch: 9500, \tLoss: 0.00000018 \t\telapsed_time:2002.856\n",
            "Epoch: 9600, \tLoss: 0.00000017 \t\telapsed_time:2023.814\n",
            "Epoch: 9700, \tLoss: 0.00000017 \t\telapsed_time:2044.715\n",
            "Epoch: 9800, \tLoss: 0.00000017 \t\telapsed_time:2065.717\n",
            "CPU times: user 33min 17s, sys: 1min 26s, total: 34min 43s\n",
            "Wall time: 34min 41s\n"
          ]
        }
      ],
      "source": [
        "%%time\n",
        "# train the PINN:\n",
        "loss_list_res_net = res_net_pinn.train()"
      ]
    },
    {
      "cell_type": "code",
      "execution_count": null,
      "metadata": {
        "id": "Gti6JyLdtA50"
      },
      "outputs": [],
      "source": [
        "torch.save(simple_net, \"/content/gdrive/MyDrive/PINN/ExampleCode/Data/resnet.pt\")"
      ]
    },
    {
      "cell_type": "code",
      "execution_count": null,
      "metadata": {
        "id": "XxNUPFG97XDc",
        "colab": {
          "base_uri": "https://localhost:8080/",
          "height": 382
        },
        "outputId": "52d9b66e-a9ac-4a59-85e7-1d1a1fcc9fb1"
      },
      "outputs": [
        {
          "output_type": "display_data",
          "data": {
            "text/plain": [
              "<Figure size 600x400 with 1 Axes>"
            ],
            "image/png": "[encoded data removed]"
          },
          "metadata": {
            "needs_background": "light"
          }
        }
      ],
      "source": [
        "# Visualizing the training loss\n",
        "figure, ax = plt.subplots(dpi=100)\n",
        "simple_loss = loss_list_simple_net[-1]\n",
        "loss_list_simple_net.extend([simple_loss] *(len(loss_list_res_net) - len(loss_list_simple_net) ))\n",
        "plot_loss1(loss_list_simple_net, 'Simple Net')\n",
        "plot_loss1(loss_list_res_net, 'ResNet')\n",
        "ax.plot(100*np.arange(len(loss_list_simple_net)), 1.3101098228008927e-22 * np.ones(len(loss_list_res_net)), label='FDM residual')\n",
        "plt.legend(loc='best'); "
      ]
    },
    {
      "cell_type": "code",
      "execution_count": null,
      "metadata": {
        "id": "v6W65LRR-WGw",
        "colab": {
          "base_uri": "https://localhost:8080/",
          "height": 314
        },
        "outputId": "caa5db79-6991-4537-ec83-48e4dd3ce201"
      },
      "outputs": [
        {
          "output_type": "display_data",
          "data": {
            "text/plain": [
              "<Figure size 648x324 with 2 Axes>"
            ],
            "image/png": "[encoded data removed]"
          },
          "metadata": {
            "needs_background": "light"
          }
        },
        {
          "output_type": "display_data",
          "data": {
            "text/plain": [
              "<Figure size 432x288 with 0 Axes>"
            ]
          },
          "metadata": {}
        }
      ],
      "source": [
        "res_net_pinn.plot(figname = 'ResNet-pinn')"
      ]
    },
    {
      "cell_type": "code",
      "execution_count": null,
      "metadata": {
        "id": "Vuy-sUB-7kpS",
        "colab": {
          "base_uri": "https://localhost:8080/"
        },
        "outputId": "9cf23f1b-e734-441d-971f-ec593550a699"
      },
      "outputs": [
        {
          "output_type": "stream",
          "name": "stdout",
          "text": [
            "\n",
            "The number of layers in the model: 25\n",
            "The number of learnable parameters in the model: 8441\n",
            "\n"
          ]
        }
      ],
      "source": [
        "res_net_fourier = DenseResNet(dim_in=2, dim_out=1, num_resnet_blocks=5, \n",
        "                        num_layers_per_block=2, num_neurons=20, activation=nn.Tanh(), \n",
        "                        fourier_features=True, m_freqs=100, sigma=10, tune_beta=False)\n",
        "model_capacity(res_net_fourier)"
      ]
    },
    {
      "cell_type": "code",
      "execution_count": null,
      "metadata": {
        "id": "jILZM3V714tM",
        "colab": {
          "base_uri": "https://localhost:8080/"
        },
        "outputId": "da6d2c1c-a24c-44fc-af7d-02ffb8ce27d7"
      },
      "outputs": [
        {
          "output_type": "stream",
          "name": "stdout",
          "text": [
            "DenseResNet(\n",
            "  (activation): Tanh()\n",
            "  (first): Linear(in_features=200, out_features=20, bias=True)\n",
            "  (resblocks): ModuleList(\n",
            "    (0): ModuleList(\n",
            "      (0): Linear(in_features=20, out_features=20, bias=True)\n",
            "      (1): Linear(in_features=20, out_features=20, bias=True)\n",
            "    )\n",
            "    (1): ModuleList(\n",
            "      (0): Linear(in_features=20, out_features=20, bias=True)\n",
            "      (1): Linear(in_features=20, out_features=20, bias=True)\n",
            "    )\n",
            "    (2): ModuleList(\n",
            "      (0): Linear(in_features=20, out_features=20, bias=True)\n",
            "      (1): Linear(in_features=20, out_features=20, bias=True)\n",
            "    )\n",
            "    (3): ModuleList(\n",
            "      (0): Linear(in_features=20, out_features=20, bias=True)\n",
            "      (1): Linear(in_features=20, out_features=20, bias=True)\n",
            "    )\n",
            "    (4): ModuleList(\n",
            "      (0): Linear(in_features=20, out_features=20, bias=True)\n",
            "      (1): Linear(in_features=20, out_features=20, bias=True)\n",
            "    )\n",
            "  )\n",
            "  (last): Linear(in_features=20, out_features=1, bias=True)\n",
            ")\n"
          ]
        }
      ],
      "source": [
        "resnet_fourier_pinn = PhysicsInformedNN(X_u_train, u_train, X_f_train, res_net_fourier)"
      ]
    },
    {
      "cell_type": "code",
      "execution_count": null,
      "metadata": {
        "id": "10BEmuXswZb8",
        "colab": {
          "base_uri": "https://localhost:8080/"
        },
        "outputId": "c9c88bee-2408-4f1b-9d8b-406dd99e97cb"
      },
      "outputs": [
        {
          "output_type": "stream",
          "name": "stdout",
          "text": [
            "Epoch: 100, \tLoss: 0.00054544 \t\telapsed_time:45.984\n",
            "Epoch: 200, \tLoss: 0.00036105 \t\telapsed_time:92.019\n",
            "Epoch: 300, \tLoss: 0.00024775 \t\telapsed_time:137.791\n",
            "Epoch: 400, \tLoss: 0.00015043 \t\telapsed_time:182.727\n",
            "Epoch: 500, \tLoss: 0.00007146 \t\telapsed_time:227.735\n",
            "Epoch: 600, \tLoss: 0.00003624 \t\telapsed_time:273.128\n",
            "Epoch: 700, \tLoss: 0.00001689 \t\telapsed_time:318.578\n",
            "Epoch: 800, \tLoss: 0.00000911 \t\telapsed_time:363.957\n",
            "Epoch: 900, \tLoss: 0.00000459 \t\telapsed_time:409.314\n",
            "Epoch: 1000, \tLoss: 0.00000275 \t\telapsed_time:454.255\n",
            "Epoch: 1100, \tLoss: 0.00000189 \t\telapsed_time:499.432\n",
            "Epoch: 1200, \tLoss: 0.00000136 \t\telapsed_time:544.285\n",
            "Epoch: 1300, \tLoss: 0.00000103 \t\telapsed_time:589.341\n",
            "Epoch: 1400, \tLoss: 0.00000078 \t\telapsed_time:634.504\n",
            "Epoch: 1500, \tLoss: 0.00000061 \t\telapsed_time:679.554\n",
            "Epoch: 1600, \tLoss: 0.00000049 \t\telapsed_time:724.402\n",
            "Epoch: 1700, \tLoss: 0.00000040 \t\telapsed_time:769.178\n",
            "Epoch: 1800, \tLoss: 0.00000032 \t\telapsed_time:813.988\n",
            "Epoch: 1900, \tLoss: 0.00000027 \t\telapsed_time:858.830\n",
            "Epoch: 2000, \tLoss: 0.00000023 \t\telapsed_time:903.823\n",
            "Epoch: 2100, \tLoss: 0.00000020 \t\telapsed_time:948.572\n",
            "Epoch: 2200, \tLoss: 0.00000017 \t\telapsed_time:993.228\n",
            "Epoch: 2300, \tLoss: 0.00000015 \t\telapsed_time:1037.833\n",
            "Epoch: 2400, \tLoss: 0.00000013 \t\telapsed_time:1082.647\n",
            "Epoch: 2500, \tLoss: 0.00000012 \t\telapsed_time:1127.431\n",
            "Epoch: 2600, \tLoss: 0.00000011 \t\telapsed_time:1172.201\n",
            "Epoch: 2700, \tLoss: 0.00000010 \t\telapsed_time:1217.066\n",
            "Epoch: 2800, \tLoss: 0.00000009 \t\telapsed_time:1261.688\n",
            "Epoch: 2900, \tLoss: 0.00000008 \t\telapsed_time:1306.507\n",
            "Epoch: 3000, \tLoss: 0.00000007 \t\telapsed_time:1351.324\n",
            "Epoch: 3100, \tLoss: 0.00000007 \t\telapsed_time:1395.929\n",
            "Epoch: 3200, \tLoss: 0.00000006 \t\telapsed_time:1440.850\n",
            "Epoch: 3300, \tLoss: 0.00000006 \t\telapsed_time:1485.532\n",
            "Epoch: 3400, \tLoss: 0.00000005 \t\telapsed_time:1530.411\n",
            "Epoch: 3500, \tLoss: 0.00000005 \t\telapsed_time:1574.977\n",
            "Epoch: 3600, \tLoss: 0.00000004 \t\telapsed_time:1619.629\n",
            "Epoch: 3700, \tLoss: 0.00000004 \t\telapsed_time:1664.290\n",
            "Epoch: 3800, \tLoss: 0.00000004 \t\telapsed_time:1708.975\n",
            "Epoch: 3900, \tLoss: 0.00000004 \t\telapsed_time:1753.495\n",
            "Epoch: 4000, \tLoss: 0.00000003 \t\telapsed_time:1798.229\n",
            "Epoch: 4100, \tLoss: 0.00000003 \t\telapsed_time:1842.842\n",
            "Epoch: 4200, \tLoss: 0.00000003 \t\telapsed_time:1887.971\n",
            "Epoch: 4300, \tLoss: 0.00000003 \t\telapsed_time:1932.989\n",
            "Epoch: 4400, \tLoss: 0.00000003 \t\telapsed_time:1977.764\n",
            "Epoch: 4500, \tLoss: 0.00000002 \t\telapsed_time:2022.647\n",
            "Epoch: 4600, \tLoss: 0.00000002 \t\telapsed_time:2067.381\n",
            "Epoch: 4700, \tLoss: 0.00000002 \t\telapsed_time:2112.152\n",
            "Epoch: 4800, \tLoss: 0.00000002 \t\telapsed_time:2157.024\n",
            "Epoch: 4900, \tLoss: 0.00000002 \t\telapsed_time:2201.865\n",
            "Epoch: 5000, \tLoss: 0.00000002 \t\telapsed_time:2246.789\n",
            "Epoch: 5100, \tLoss: 0.00000002 \t\telapsed_time:2291.623\n",
            "Epoch: 5200, \tLoss: 0.00000002 \t\telapsed_time:2336.348\n",
            "Epoch: 5300, \tLoss: 0.00000002 \t\telapsed_time:2381.137\n",
            "Epoch: 5400, \tLoss: 0.00000002 \t\telapsed_time:2426.000\n",
            "Epoch: 5500, \tLoss: 0.00000001 \t\telapsed_time:2470.887\n",
            "Epoch: 5600, \tLoss: 0.00000001 \t\telapsed_time:2515.950\n",
            "Epoch: 5700, \tLoss: 0.00000001 \t\telapsed_time:2560.854\n",
            "Epoch: 5800, \tLoss: 0.00000001 \t\telapsed_time:2605.907\n",
            "Epoch: 5900, \tLoss: 0.00000001 \t\telapsed_time:2651.014\n",
            "Epoch: 6000, \tLoss: 0.00000001 \t\telapsed_time:2696.269\n",
            "Epoch: 6100, \tLoss: 0.00000001 \t\telapsed_time:2741.633\n",
            "CPU times: user 44min 15s, sys: 1min 38s, total: 45min 54s\n",
            "Wall time: 45min 41s\n"
          ]
        }
      ],
      "source": [
        "%%time\n",
        "# train the PINN:\n",
        "loss_list_resnet_fourier = resnet_fourier_pinn.train()"
      ]
    },
    {
      "cell_type": "code",
      "execution_count": null,
      "metadata": {
        "id": "pl-wuAAXtEGc"
      },
      "outputs": [],
      "source": [
        "torch.save(simple_net, \"/content/gdrive/MyDrive/PINN/ExampleCode/Data/resfouriernet.pt\")"
      ]
    },
    {
      "cell_type": "code",
      "source": [
        "print(len(loss_list_resnet_fourier))\n",
        "print(loss_list_res_net)"
      ],
      "metadata": {
        "colab": {
          "base_uri": "https://localhost:8080/"
        },
        "id": "lDlXVJ77Y-hi",
        "outputId": "e02ebbc8-b26c-44de-9f07-0879d4f74432"
      },
      "execution_count": null,
      "outputs": [
        {
          "output_type": "stream",
          "name": "stdout",
          "text": [
            "61\n",
            "[0.0008386807143688202, 0.0005323794484138488, 0.00034700341522693636, 0.00024816293269395827, 0.00019293844699859618, 0.0001592640019953251, 0.00012462032958865165, 0.00010176588781177997, 8.090747520327569e-05, 6.848971359431744e-05, 5.994354374706745e-05, 4.9071982502937316e-05, 4.464877303689718e-05, 3.634781111031771e-05, 3.157544881105423e-05, 2.8290608897805215e-05, 2.5280276313424112e-05, 2.2705523297190665e-05, 2.0384863018989565e-05, 1.9861008040606977e-05, 1.789055299013853e-05, 1.7292912816628813e-05, 1.5601458726450802e-05, 1.4133446384221316e-05, 1.3031181879341602e-05, 9.143851930275559e-06, 7.855931180529296e-06, 6.806831224821508e-06, 6.309050950221717e-06, 5.315818707458675e-06, 4.822351620532572e-06, 4.215348744764924e-06, 3.828774497378618e-06, 3.562131605576724e-06, 3.2185213058255614e-06, 3.0153116676956417e-06, 2.791121369227767e-06, 2.6243028696626425e-06, 2.502788556739688e-06, 2.34379549510777e-06, 2.123427693732083e-06, 2.019773965002969e-06, 1.8279705545864998e-06, 1.7174502136185765e-06, 1.58848415594548e-06, 1.4843927056062967e-06, 1.412475248798728e-06, 1.3457056775223464e-06, 1.2790119217243045e-06, 1.2263191456440835e-06, 1.1693421402014792e-06, 1.1119518603663892e-06, 1.0537137859500945e-06, 9.713679901324212e-07, 9.22238250495866e-07, 8.745962259126827e-07, 7.893276051618159e-07, 7.386369543382898e-07, 6.986647349549457e-07, 6.766326987417415e-07, 6.43285020487383e-07, 6.237269553821534e-07, 5.972506914986297e-07, 5.733830766985193e-07, 5.387431883718819e-07, 5.06806536577642e-07, 4.829218596569262e-07, 4.6463479520753025e-07, 4.4468004489317537e-07, 4.13595735153649e-07, 3.9902195567265155e-07, 3.859312710119411e-07, 4.7611778427381067e-07, 3.5536933864932505e-07, 3.3350457670167086e-07, 3.1776165997143836e-07, 3.0520259315380826e-07, 2.9328588425414636e-07, 2.831628080457449e-07, 2.72799443337135e-07, 2.623202817630954e-07, 2.5312740035587923e-07, 2.4969416699605064e-07, 2.373666393395979e-07, 2.3074062482919544e-07, 2.2405631170840933e-07, 2.1748106519225984e-07, 2.3552442144136876e-07, 2.0913046682835557e-07, 2.03360577870626e-07, 1.9896067897207103e-07, 1.9524219169397838e-07, 1.8745868146652356e-07, 1.825622166506946e-07, 1.7823365851654672e-07, 1.7418255083612165e-07, 1.7128959370893426e-07, 1.6994217730825766e-07]\n"
          ]
        }
      ]
    },
    {
      "cell_type": "code",
      "execution_count": null,
      "metadata": {
        "id": "odKqczs_92PH"
      },
      "outputs": [],
      "source": [
        "# Visualizing the training loss\n",
        "figure, ax = plt.subplots(dpi=100)\n",
        "plot_loss1(loss_list_simple_net, 'Simple Net')\n",
        "plot_loss1(loss_list_res_net, 'ResNet')\n",
        "plot_loss1(loss_list_resnet_fourier, 'Fourier features-ResNet')\n",
        "ax.plot(100*np.arange(len(loss_list_simple_net)), 1.3101098228008927e-22 * np.ones(len(loss_list_res_net)), label='FDM residual')\n",
        "plt.legend(loc='best'); "
      ]
    },
    {
      "cell_type": "code",
      "execution_count": null,
      "metadata": {
        "id": "tfeb4G8f-b5y"
      },
      "outputs": [],
      "source": [
        "# plot the output of the trained PINN:\n",
        "resnet_fourier_pinn.plot(figname = 'resnet_fourier_pinn')"
      ]
    },
    {
      "cell_type": "markdown",
      "metadata": {
        "id": "QYnLoVg5EokC"
      },
      "source": [
        "### Comparing the predictions of each network against the FDM solution and plotting their mean square error."
      ]
    },
    {
      "cell_type": "code",
      "execution_count": null,
      "metadata": {
        "id": "Wp9KQQG5wdwa"
      },
      "outputs": [],
      "source": [
        "def mse(series1, series2):\n",
        "    return np.mean(np.square(series1[:] - series2[:]))"
      ]
    },
    {
      "cell_type": "code",
      "execution_count": null,
      "metadata": {
        "id": "I2vjE3Y1FMcG"
      },
      "outputs": [],
      "source": [
        "u_fdm = np.load('/content/gdrive/MyDrive/PINN/ExampleCode/Data/u_1.npy')"
      ]
    },
    {
      "cell_type": "code",
      "execution_count": null,
      "metadata": {
        "id": "P70TCBM7FT8f"
      },
      "outputs": [],
      "source": [
        "nx = 10000\n",
        "x_arr = np.linspace(-1, 1, nx, dtype=np.float32)\n",
        "t = np.ones(1, dtype=np.float32)\n",
        "x = torch.from_numpy(x_arr)\n",
        "t = torch.from_numpy(t)\n",
        "\n",
        "X, T = torch.meshgrid(x, t)\n",
        "xcol = X.reshape(-1, 1)\n",
        "tcol = T.reshape(-1, 1)\n"
      ]
    },
    {
      "cell_type": "code",
      "execution_count": null,
      "metadata": {
        "id": "fd91PBbsFuDX"
      },
      "outputs": [],
      "source": [
        "# simple net predictions\n",
        "# U output from net\n",
        "u_simple = simple_pinn.net_u(xcol, tcol)\n",
        "u_simple = u_simple.reshape(x.numel())\n",
        "u_simple = u_simple.detach().numpy()\n",
        "print(np.shape(u_simple))\n",
        "mse_simple = mse(u_simple, u_fdm)"
      ]
    },
    {
      "cell_type": "code",
      "execution_count": null,
      "metadata": {
        "id": "3JgdtNCfPANL"
      },
      "outputs": [],
      "source": [
        "np.shape(u_fdm)"
      ]
    },
    {
      "cell_type": "code",
      "execution_count": null,
      "metadata": {
        "id": "wkHWKUReG9Cu"
      },
      "outputs": [],
      "source": [
        "# resnet net predictions\n",
        "# U output from net\n",
        "u_resnet = res_net_pinn.net_u(xcol, tcol)\n",
        "u_resnet = u_resnet.reshape(x.numel())\n",
        "u_resnet = u_resnet.detach().numpy()\n",
        "\n",
        "mse_resnet = mse(u_resnet, u_fdm)"
      ]
    },
    {
      "cell_type": "code",
      "execution_count": null,
      "metadata": {
        "id": "KWwrtdh0Hk76"
      },
      "outputs": [],
      "source": [
        "# fourier resnet net predictions\n",
        "# U output from net\n",
        "u_fourier = resnet_fourier_pinn.net_u(xcol, tcol)\n",
        "u_fourier = u_fourier.reshape(x.numel())\n",
        "u_fourier = u_fourier.detach().numpy()\n",
        "\n",
        "mse_fourier = mse(u_fourier, u_fdm)"
      ]
    },
    {
      "cell_type": "code",
      "execution_count": null,
      "metadata": {
        "id": "GPjl8T8MIXmc"
      },
      "outputs": [],
      "source": [
        "# barchart\n",
        "pos = [0.5, 1.5, 2.5 ]\n",
        "height = np.array([mse_simple, mse_resnet, mse_fourier])\n",
        "fig = plt.figure(figsize=(8,6))\n",
        "plt.bar(pos, height, align = 'center', color = ['blue', 'orange', 'green'], tick_label = ['Simple','ResNet', 'Fourier-ResNet'])"
      ]
    },
    {
      "cell_type": "code",
      "execution_count": null,
      "metadata": {
        "id": "wBFDmG0POpjR"
      },
      "outputs": [],
      "source": [
        "print(height)"
      ]
    },
    {
      "cell_type": "code",
      "execution_count": null,
      "metadata": {
        "id": "eNLEfvO0VDvd"
      },
      "outputs": [],
      "source": [
        "np.min(loss_list_resnet_fourier)"
      ]
    },
    {
      "cell_type": "code",
      "execution_count": null,
      "metadata": {
        "id": "FZkD0yLgVydV"
      },
      "outputs": [],
      "source": [
        "np.min(loss_list_res_net)"
      ]
    },
    {
      "cell_type": "code",
      "execution_count": null,
      "metadata": {
        "id": "GXSd_QCXV-g7"
      },
      "outputs": [],
      "source": [
        "np.min(loss_list_simple_net)"
      ]
    },
    {
      "cell_type": "code",
      "execution_count": null,
      "metadata": {
        "id": "m7Gv7XKNWAyb"
      },
      "outputs": [],
      "source": [
        "def plot_func(x,u,label):\n",
        "    #title = str(round((nt*dt),2)) + \" secs\"\n",
        "    #title = str(i)\n",
        "    #plt.figure(figsize=(11, 7), dpi=100)\n",
        "    plt.plot(x,u, lw=1, label=label)\n",
        "    #plt.plot(x, u_analytical, label='Analytical')\n",
        "    \n",
        "    #plt.title(title)\n",
        "    #plt.show()\n",
        "    #plt.savefig(title+\".png\")\n",
        "    #plt.close()\n",
        "    plt.legend(loc='best')"
      ]
    },
    {
      "cell_type": "code",
      "execution_count": null,
      "metadata": {
        "id": "rH1-GueqPL07"
      },
      "outputs": [],
      "source": [
        "figure, ax = plt.subplots(figsize = (8,6),dpi=200)\n",
        "plot_func(x_arr, u_fdm, 'FDM')\n",
        "plot_func(x_arr, u_simple, 'Simple')\n",
        "plot_func(x_arr, u_resnet, 'ResNet')\n",
        "plot_func(x_arr, u_fourier, 'Fourier-ResNet')"
      ]
    },
    {
      "cell_type": "code",
      "execution_count": null,
      "metadata": {
        "id": "kvRySpLAPeds"
      },
      "outputs": [],
      "source": [
        "torch.save(simple_net, '/content/gdrive/MyDrive/PINN/ExampleCode/Data/simple_net.h5')"
      ]
    },
    {
      "cell_type": "code",
      "execution_count": null,
      "metadata": {
        "id": "6bwbPrjsZsfM"
      },
      "outputs": [],
      "source": [
        "torch.save(res_net, '/content/gdrive/MyDrive/PINN/ExampleCode/Data/res_net.h5')"
      ]
    },
    {
      "cell_type": "code",
      "execution_count": null,
      "metadata": {
        "id": "3KLVjX8CZwvL"
      },
      "outputs": [],
      "source": [
        "torch.save(res_net_fourier, '/content/gdrive/MyDrive/PINN/ExampleCode/Data/fourier_resnet.h5')"
      ]
    },
    {
      "cell_type": "code",
      "execution_count": null,
      "metadata": {
        "id": "z0drXo9MZ8nh"
      },
      "outputs": [],
      "source": [
        ""
      ]
    }
  ],
  "metadata": {
    "colab": {
      "collapsed_sections": [],
      "name": "pytorch_pinn_burgers_compare_networks.ipynb",
      "provenance": []
    },
    "kernelspec": {
      "display_name": "Python 3",
      "name": "python3"
    },
    "language_info": {
      "name": "python"
    }
  },
  "nbformat": 4,
  "nbformat_minor": 0
}